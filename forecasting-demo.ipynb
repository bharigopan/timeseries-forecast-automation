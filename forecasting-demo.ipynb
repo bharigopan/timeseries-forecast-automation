{
 "cells": [
  {
   "cell_type": "markdown",
   "metadata": {},
   "source": [
    "Evaluation metric for learning model\n",
    "1. Mean absolute error (MAE)\n",
    "2. Mean squared error (MSE)\n",
    "3. Root Mean Square Error (RMSE)\n",
    "4. Mean absolute percentage error (MAPE)\n",
    "5. Symmetric mean absolute percentage error (SMAPE)\n",
    "6. Mean Forecast Error (MFE)\n",
    "7. Normalized mean squared error (NMSE)\n",
    "8. Theil's U statistic"
   ]
  },
  {
   "cell_type": "code",
   "execution_count": null,
   "metadata": {},
   "outputs": [],
   "source": [
    "from forecast_recommender import forecast_recommender\n",
    "import pandas as pd\n",
    "\n",
    "\n",
    "df1 = pd.read_csv(\"../monthly-car-sales.csv\")\n",
    "recommender = forecast_recommender(df1)\n",
    "result, model_name = recommender.auto_forecast(1)\n",
    "print(\"\\nBest model for this dataset is \", model_name)\n",
    "print(result)\n"
   ]
  }
 ],
 "metadata": {
  "kernelspec": {
   "display_name": "deeplearning",
   "language": "python",
   "name": "deeplearning"
  }
 },
 "nbformat": 4,
 "nbformat_minor": 4
}
