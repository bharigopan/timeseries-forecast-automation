{
 "cells": [
  {
   "cell_type": "markdown",
   "metadata": {},
   "source": [
    "# Automated univariate time-series forecasting"
   ]
  },
  {
   "cell_type": "markdown",
   "metadata": {},
   "source": [
    "Evaluation metric for learning model\n",
    "1. Mean absolute error (MAE)\n",
    "2. Mean squared error (MSE)\n",
    "3. Root Mean Square Error (RMSE)\n",
    "4. Mean absolute percentage error (MAPE)\n",
    "5. Symmetric mean absolute percentage error (SMAPE)\n",
    "6. Mean Forecast Error (MFE)\n",
    "7. Normalized mean squared error (NMSE)\n",
    "8. Theil's U statistic"
   ]
  },
  {
   "cell_type": "code",
   "execution_count": 1,
   "metadata": {},
   "outputs": [
    {
     "name": "stdout",
     "output_type": "stream",
     "text": [
      "==============================================================================\n",
      "                 coef    std err          z      P>|z|      [0.025      0.975]\n",
      "------------------------------------------------------------------------------\n",
      "ma.L1         -0.8372      0.066    -12.691      0.000      -0.967      -0.708\n",
      "ma.S.L12      -0.4687      0.114     -4.108      0.000      -0.692      -0.245\n",
      "sigma2      2.673e+06    4.8e+05      5.573      0.000    1.73e+06    3.61e+06\n",
      "==============================================================================\n",
      "\n",
      "==============================================\n",
      "Metrics for ARIMA Model:\n",
      "Mean Absolute Error: 1451.103\n",
      "Mean Squared Error: 18608.652\n",
      "Root Mean Squared Error: 1711.321\n",
      "Mean absolute percentage error: 7.871\n",
      "Scaled Mean absolute percentage error: 8.138\n",
      "Mean forecast error: 17939.99\n",
      "Normalised mean squared error: 0.192\n",
      "Theil's U statistic: 0.0\n",
      "==============================================\n",
      "\n",
      "\n",
      "==============================================\n",
      "Metrics for FBProphet Model:\n",
      "Mean Absolute Error: 1336.814\n",
      "Mean Squared Error: 18608.652\n",
      "Root Mean Squared Error: 1749.191\n",
      "Mean absolute percentage error: 7.187\n",
      "Scaled Mean absolute percentage error: 7.407\n",
      "Mean forecast error: 18094.991\n",
      "Normalised mean squared error: 0.2\n",
      "Theil_u_statistic: 0.0\n",
      "==============================================\n",
      "\n",
      "\n",
      "==============================================\n",
      "Metrics for HWES Model:\n",
      "Mean Absolute Error: 1589.052\n",
      "Mean Squared Error: 18608.652\n",
      "Root Mean Squared Error: 2197.325\n",
      "Mean absolute percentage error: 8.622\n",
      "Scaled Mean absolute percentage error: 9.334\n",
      "Mean forecast error: 17159.808\n",
      "Normalised mean squared error: 0.316\n",
      "Theil_u_statistic: 0.0\n",
      "==============================================\n",
      "\n"
     ]
    }
   ],
   "source": [
    "from forecast_recommender import forecast_recommender\n",
    "import pandas as pd\n",
    "\n",
    "df1 = pd.read_csv(\"../monthly-car-sales.csv\")\n",
    "recommender = forecast_recommender(df1)\n",
    "result, model_name = recommender.auto_forecast(1)"
   ]
  },
  {
   "cell_type": "code",
   "execution_count": 2,
   "metadata": {},
   "outputs": [
    {
     "name": "stdout",
     "output_type": "stream",
     "text": [
      "\n",
      "Best model for this dataset is  FbProphet\n",
      "           ds          yhat\n",
      "0  1969-01-01  15396.026630\n",
      "1  1969-02-01  16165.838547\n",
      "2  1969-03-01  21369.121163\n",
      "3  1969-04-01  23494.793981\n",
      "4  1969-05-01  25004.900023\n",
      "5  1969-06-01  22263.278413\n",
      "6  1969-07-01  17926.533617\n",
      "7  1969-08-01  15754.482263\n",
      "8  1969-09-01  14262.071702\n",
      "9  1969-10-01  18697.917520\n",
      "10 1969-11-01  18592.832407\n",
      "11 1969-12-01  16406.359115\n"
     ]
    }
   ],
   "source": [
    "print(\"Best model for this dataset is \", model_name)\n",
    "print(result)"
   ]
  }
 ],
 "metadata": {
  "kernelspec": {
   "display_name": "deeplearning",
   "language": "python",
   "name": "deeplearning"
  },
  "language_info": {
   "codemirror_mode": {
    "name": "ipython",
    "version": 3
   },
   "file_extension": ".py",
   "mimetype": "text/x-python",
   "name": "python",
   "nbconvert_exporter": "python",
   "pygments_lexer": "ipython3",
   "version": "3.7.7"
  }
 },
 "nbformat": 4,
 "nbformat_minor": 4
}
